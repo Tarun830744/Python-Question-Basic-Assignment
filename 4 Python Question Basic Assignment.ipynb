{
 "cells": [
  {
   "cell_type": "markdown",
   "id": "3968978f",
   "metadata": {},
   "source": [
    "Q1 = What exactly is []?\n",
    "\n",
    "Ans:\n",
    "this is a empty list which conatin no items"
   ]
  },
  {
   "cell_type": "markdown",
   "id": "9d0eeb91",
   "metadata": {},
   "source": [
    "\n",
    "\n"
   ]
  },
  {
   "cell_type": "markdown",
   "id": "9767d819",
   "metadata": {},
   "source": [
    "Q2 = In a list of values stored in a variable called spam, how would you assign the value 'hello' as the\n",
    "third value? (Assume [2, 4, 6, 8, 10] are in spam.)\n",
    "\n",
    "Ans: spam[2] = 'hello'"
   ]
  },
  {
   "cell_type": "markdown",
   "id": "f4e784ab",
   "metadata": {},
   "source": [
    "\n",
    "\n"
   ]
  },
  {
   "cell_type": "markdown",
   "id": "34eb6759",
   "metadata": {},
   "source": [
    "Let's pretend the spam includes the list ['a', 'b', 'c','d'] for the next three queries."
   ]
  },
  {
   "cell_type": "markdown",
   "id": "1f2fdebd",
   "metadata": {},
   "source": [
    "Q3 = What is the value of spam[int(int('3' * 2) / 11)]?\n",
    "\n",
    "Ans = 'd'\n"
   ]
  },
  {
   "cell_type": "markdown",
   "id": "014eeb4f",
   "metadata": {},
   "source": [
    "\n",
    "\n"
   ]
  },
  {
   "cell_type": "markdown",
   "id": "8edb090d",
   "metadata": {},
   "source": [
    "Q4 =What is the value of spam[-1]?\n",
    "\n",
    "Ans = 'd'"
   ]
  },
  {
   "cell_type": "markdown",
   "id": "0d38fda9",
   "metadata": {},
   "source": [
    "\n",
    "\n"
   ]
  },
  {
   "cell_type": "markdown",
   "id": "df4edc46",
   "metadata": {},
   "source": [
    "Q5 = What is the value of spam[:2]?\n",
    "\n",
    "Ans : ['a','b']"
   ]
  },
  {
   "cell_type": "markdown",
   "id": "1d2d50fa",
   "metadata": {},
   "source": [
    "\n",
    "\n"
   ]
  },
  {
   "cell_type": "markdown",
   "id": "e31dff17",
   "metadata": {},
   "source": [
    "Let's pretend bacon has the list [3.14, 'cat', 11,'cat',True] for the next three questions."
   ]
  },
  {
   "cell_type": "markdown",
   "id": "a433aa3f",
   "metadata": {},
   "source": [
    "Q6 = What is the value of bacon.index('cat')?\n",
    "\n",
    "Ans:  1"
   ]
  },
  {
   "cell_type": "markdown",
   "id": "6daba751",
   "metadata": {},
   "source": [
    "\n",
    "\n"
   ]
  },
  {
   "cell_type": "markdown",
   "id": "cb14cfd9",
   "metadata": {},
   "source": [
    "Q7 = How does bacon.append(99) change the look of the list value in bacon?\n",
    "\n",
    "Ans: [3.14,'cat',11,'cat',True,99]"
   ]
  },
  {
   "cell_type": "markdown",
   "id": "d4a44b94",
   "metadata": {},
   "source": [
    "\n",
    "\n"
   ]
  },
  {
   "cell_type": "markdown",
   "id": "38e80f23",
   "metadata": {},
   "source": [
    "Q8 =How does bacon.remove('cat') change the look of the list in bacon?\n",
    "\n",
    "Ans: [3.14,11,'cat',True]"
   ]
  },
  {
   "cell_type": "markdown",
   "id": "774454fe",
   "metadata": {},
   "source": [
    "\n",
    "\n"
   ]
  },
  {
   "cell_type": "markdown",
   "id": "c46aabfb",
   "metadata": {},
   "source": [
    "Q9 = What are the list concatenation and list replication operators?\n",
    "\n",
    "Ans:The operator for list concatenation is +, while the operator for replication is *"
   ]
  },
  {
   "cell_type": "markdown",
   "id": "cd27370f",
   "metadata": {},
   "source": [
    "\n",
    "\n"
   ]
  },
  {
   "cell_type": "markdown",
   "id": "81155c1e",
   "metadata": {},
   "source": [
    "Q10 = What is difference between the list methods append() and insert()?\n",
    "\n",
    "Ans: While append() will add values only to the end of a list, insert() can add them anywhere in the list."
   ]
  },
  {
   "cell_type": "markdown",
   "id": "b1367db9",
   "metadata": {},
   "source": [
    "\n",
    "\n"
   ]
  },
  {
   "cell_type": "markdown",
   "id": "4253c13a",
   "metadata": {},
   "source": [
    "Q11 = What are the two methods for removing items from a list?\n",
    "\n",
    "Ans:\n",
    "\n",
    "1) Using the remove() method.\n",
    "\n",
    "2) Using the pop() method."
   ]
  },
  {
   "cell_type": "markdown",
   "id": "dba48197",
   "metadata": {},
   "source": [
    "\n",
    "\n"
   ]
  },
  {
   "cell_type": "markdown",
   "id": "48601c62",
   "metadata": {},
   "source": [
    "Q12 = Describe how list values and string values are identical.\n",
    "\n",
    "Ans:\n",
    "\n",
    "1) Both lists and strings can be passed to len()\n",
    "\n",
    "2) Both have indexes and slices\n",
    "\n",
    "3) Both can be used in for loops\n",
    "\n",
    "4) Both can be concatenated or replicated\n",
    "\n",
    "5) Both can be used with the in and not in operators.\n"
   ]
  },
  {
   "cell_type": "markdown",
   "id": "be1d12e0",
   "metadata": {},
   "source": [
    "\n",
    "\n"
   ]
  },
  {
   "cell_type": "markdown",
   "id": "978e61a1",
   "metadata": {},
   "source": [
    "Q13 = What's the difference between tuples and lists?\n",
    "\n",
    "Ans:\n",
    "\n",
    "List :-\n",
    "\n",
    "1) Lists are mutable; they can have values added, removed, or changed. \n",
    "\n",
    "2) lists use the square brackets, [  ]\n",
    "\n",
    "tuple:-\n",
    "\n",
    "1) Tuples are immutable; they cannot be changed at all. \n",
    "\n",
    "2) tuples are written using parentheses, ( )"
   ]
  },
  {
   "cell_type": "markdown",
   "id": "960286e5",
   "metadata": {},
   "source": [
    "\n"
   ]
  },
  {
   "cell_type": "markdown",
   "id": "a71a143c",
   "metadata": {},
   "source": [
    "Q14 = How do you type a tuple value that only contains the integer 42?\n",
    "\n",
    "Ans: (42,)  (The trailing comma is mandatory.)"
   ]
  },
  {
   "cell_type": "markdown",
   "id": "892ce602",
   "metadata": {},
   "source": [
    "\n",
    "\n"
   ]
  },
  {
   "cell_type": "markdown",
   "id": "70bbbbec",
   "metadata": {},
   "source": [
    "Q15 = How do you get a list value's tuple form? How do you get a tuple value's list form?\n",
    "\n",
    "Ans:The tuple() and list() functions, respectively\n"
   ]
  },
  {
   "cell_type": "markdown",
   "id": "088fcaa4",
   "metadata": {},
   "source": [
    "\n",
    "\n"
   ]
  },
  {
   "cell_type": "markdown",
   "id": "154a1e21",
   "metadata": {},
   "source": [
    "Q16 = Variables that \"contain\" list values are not necessarily lists themselves. Instead, what do they\n",
    "contain?\n",
    "\n",
    "Ans:\n",
    "They contain references to list values."
   ]
  },
  {
   "cell_type": "markdown",
   "id": "b70cb00a",
   "metadata": {},
   "source": [
    "\n",
    "\n"
   ]
  },
  {
   "cell_type": "markdown",
   "id": "be3940dc",
   "metadata": {},
   "source": [
    "Q17 = How do you distinguish between copy.copy() and copy.deepcopy()?\n",
    "\n",
    "Ans: The copy.copy() function will do a shallow copy of a list, while the copy.deepcopy() function will do a deep copy of a list. That is, only copy.deepcopy() will duplicate any lists inside the list."
   ]
  },
  {
   "cell_type": "code",
   "execution_count": null,
   "id": "b7b9d729",
   "metadata": {},
   "outputs": [],
   "source": []
  }
 ],
 "metadata": {
  "kernelspec": {
   "display_name": "Python 3",
   "language": "python",
   "name": "python3"
  },
  "language_info": {
   "codemirror_mode": {
    "name": "ipython",
    "version": 3
   },
   "file_extension": ".py",
   "mimetype": "text/x-python",
   "name": "python",
   "nbconvert_exporter": "python",
   "pygments_lexer": "ipython3",
   "version": "3.6.13"
  }
 },
 "nbformat": 4,
 "nbformat_minor": 5
}
