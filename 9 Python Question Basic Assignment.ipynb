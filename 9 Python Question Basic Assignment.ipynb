{
 "cells": [
  {
   "cell_type": "markdown",
   "id": "6083cd1f",
   "metadata": {},
   "source": [
    "Q1 = To what does a relative path refer?\n",
    "\n",
    "Ans = A relative path refers to a location that is relative to a current directory. Relative paths make use of two special symbols, a dot (.) and a double-dot (..), which translate into the current directory and the parent directory.\n"
   ]
  },
  {
   "cell_type": "markdown",
   "id": "e7ecc0db",
   "metadata": {},
   "source": [
    "\n"
   ]
  },
  {
   "cell_type": "markdown",
   "id": "16c0deb0",
   "metadata": {},
   "source": [
    "Q2 = What does an absolute path start with your operating system?\n",
    "\n",
    "Ans = An absolute path refers to the complete details needed to locate a file or folder, starting from the root element and ending with the other subdirectories. Absolute paths are used in websites and operating systems for locating files and folders"
   ]
  },
  {
   "cell_type": "markdown",
   "id": "786c2b3b",
   "metadata": {},
   "source": [
    "\n",
    "\n"
   ]
  },
  {
   "cell_type": "markdown",
   "id": "5509fb0a",
   "metadata": {},
   "source": [
    "Q3 = What do the functions os.getcwd() and os.chdir() do?\n",
    "\n",
    "Ans = os.getcwd() = using this we can see that what is our current working directory\n",
    "\n",
    "os.chdir() = using this we can change our directory"
   ]
  },
  {
   "cell_type": "markdown",
   "id": "defc36dd",
   "metadata": {},
   "source": [
    "\n"
   ]
  },
  {
   "cell_type": "markdown",
   "id": "cdca5771",
   "metadata": {},
   "source": [
    "Q4 = What are the . and .. folders?\n",
    "\n",
    "Ans = The . is the current directory, while .. signifies the parent directory. "
   ]
  },
  {
   "cell_type": "markdown",
   "id": "8351a466",
   "metadata": {},
   "source": [
    "\n"
   ]
  },
  {
   "cell_type": "markdown",
   "id": "a985107d",
   "metadata": {},
   "source": [
    "Q5 = In C:\\bacon\\eggs\\spam.txt, which part is the dir name, and which part is the base name?\n",
    "\n",
    "Ans = C:\\bacon\\eggs = dir name\n",
    "\n",
    "spam.txt = base name"
   ]
  },
  {
   "cell_type": "markdown",
   "id": "fcb27e75",
   "metadata": {},
   "source": [
    "\n"
   ]
  },
  {
   "cell_type": "markdown",
   "id": "8902e9e7",
   "metadata": {},
   "source": [
    "Q6 = What are the three “mode” arguments that can be passed to the open() function?\n",
    "\n",
    "Ans = wb = Opens a write-only file in binary mode.\n",
    "\n",
    "rb = Opens the file as read-only in binary format and starts reading from the beginning of the file.\n",
    "\n",
    "ab = Opens a file for appending in binary mode."
   ]
  },
  {
   "cell_type": "markdown",
   "id": "f8a593a2",
   "metadata": {},
   "source": [
    "\n",
    "\n"
   ]
  },
  {
   "cell_type": "markdown",
   "id": "06f5e583",
   "metadata": {},
   "source": [
    "Q7 = What happens if an existing file is opened in write mode?\n",
    "\n",
    "Ans = the content inside the existing file remove and the file is treated as new empty file"
   ]
  },
  {
   "cell_type": "markdown",
   "id": "bb60394b",
   "metadata": {},
   "source": [
    "\n"
   ]
  },
  {
   "cell_type": "markdown",
   "id": "8cd01ace",
   "metadata": {},
   "source": [
    "Q8 = How do you tell the difference between read() and readlines()?\n",
    "\n",
    "Ans = read() = it is used to read single character by character\n",
    "\n",
    "readline() = it is used to read line by line"
   ]
  },
  {
   "cell_type": "markdown",
   "id": "c11e543a",
   "metadata": {},
   "source": [
    "\n",
    "\n"
   ]
  },
  {
   "cell_type": "markdown",
   "id": "3a352b4f",
   "metadata": {},
   "source": [
    "Q9 = What data structure does a shelf value resemble?\n",
    "\n",
    "Ans = A shelf value resembles a dictionary value; it has keys and values, along with keys() and values() methods that work similarly to the dictionary methods of the same names."
   ]
  }
 ],
 "metadata": {
  "kernelspec": {
   "display_name": "Python 3 (ipykernel)",
   "language": "python",
   "name": "python3"
  },
  "language_info": {
   "codemirror_mode": {
    "name": "ipython",
    "version": 3
   },
   "file_extension": ".py",
   "mimetype": "text/x-python",
   "name": "python",
   "nbconvert_exporter": "python",
   "pygments_lexer": "ipython3",
   "version": "3.9.7"
  }
 },
 "nbformat": 4,
 "nbformat_minor": 5
}
