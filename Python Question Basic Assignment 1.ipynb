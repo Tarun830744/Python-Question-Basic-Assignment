{
 "cells": [
  {
   "cell_type": "markdown",
   "id": "7ce56d34",
   "metadata": {},
   "source": [
    "Q1 = In the below elements which of them are values or an expression? eg:- values can be\n",
    "integer or string and expressions will be mathematical operators.\n",
    "\n",
    "(*) \n",
    "\n",
    "'hello'\n",
    "\n",
    "-87.8\n",
    "\n",
    "(-) \n",
    "\n",
    "(/) \n",
    "\n",
    "(+)\n",
    "\n",
    "6 \n",
    "\n",
    "Ans:    \n",
    "(*)   = Multiplication mathematical operator\n",
    "\n",
    "'hello'= string\n",
    "\n",
    "-87.8 = float number\n",
    "\n",
    "(-)   = Subtraction mathematical operator\n",
    "\n",
    "(/)   = division mathematical operator\n",
    "\n",
    "(+)   = addition mathematical operator\n",
    "\n",
    "6   = Integer\n"
   ]
  },
  {
   "cell_type": "markdown",
   "id": "87993157",
   "metadata": {},
   "source": [
    "\n",
    "\n",
    "\n",
    "\n",
    "\n",
    "\n",
    "\n",
    "\n"
   ]
  },
  {
   "cell_type": "markdown",
   "id": "a4d8a572",
   "metadata": {},
   "source": [
    "Q2 =What is the difference between string and variable?\n",
    "\n",
    "Ans:\n",
    "Variable = Variable is used to store some information in it it may be string , integer ,float number etc.\n",
    "\n",
    "for example:- num1 = 25\n",
    "              text = \"welcome\"\n",
    "\n",
    "String = String is a type of information you would store in variable. A String is usually words, enclosed with \"\" and ''\n",
    "\n",
    "for example:- \"hello and welcome in my world\"\n"
   ]
  },
  {
   "cell_type": "markdown",
   "id": "774e9144",
   "metadata": {},
   "source": [
    "\n",
    "\n"
   ]
  },
  {
   "cell_type": "markdown",
   "id": "aee739ed",
   "metadata": {},
   "source": [
    "Q3 = Describe three different datatypes\n",
    "\n",
    "Ans:\n",
    "1)integer =  This value is represented by int class. It containswhole numbers without fraction or decimal.In Python there is no              limit to how long an integer value can be.\n",
    "\n",
    "For example = num = 8956\n",
    "              type(num) = int\n",
    "         \n",
    "2)Float  = This value is represented by float class. It is a real number with floating point representation. It is specified by            a decimal point\n",
    "\n",
    "For example = num1 = 5.6\n",
    "              type(num1) = float\n",
    "\n",
    "3)Complex = Complex number is represented by complex class. It is specified as real part and imaginary part(r+aj)\n",
    "\n",
    "For example = num2 = 5+6j\n",
    "             type(num2)= complex"
   ]
  },
  {
   "cell_type": "markdown",
   "id": "2c7a2689",
   "metadata": {},
   "source": [
    "\n"
   ]
  },
  {
   "cell_type": "markdown",
   "id": "93d0b00c",
   "metadata": {},
   "source": [
    "Q4 = What is an expression made up of? What do all expressions do?\n",
    "\n",
    "Ans:\n",
    "An expression is a combination of values, variables, operators, and calls to functions. Expressions need to be evaluated. If you ask Python to print an expression, the interpreter evaluates the expression and displays the result"
   ]
  },
  {
   "cell_type": "markdown",
   "id": "d3bea134",
   "metadata": {},
   "source": [
    "\n",
    "\n",
    "\n"
   ]
  },
  {
   "cell_type": "markdown",
   "id": "cb24d980",
   "metadata": {},
   "source": [
    "Q5 = This assignment statements, like spam = 10. What is the difference between an\n",
    "expression and a statement?\n",
    "\n",
    "Ans:\n",
    "An expression evaluates to a single value. A statement does not."
   ]
  },
  {
   "cell_type": "markdown",
   "id": "1ab08173",
   "metadata": {},
   "source": [
    "\n",
    "\n"
   ]
  },
  {
   "cell_type": "markdown",
   "id": "e7330d95",
   "metadata": {},
   "source": [
    "Q6 = After running the following code, what does the variable bacon contain?\n",
    "\n",
    "bacon = 22\n",
    "\n",
    "bacon + 1\n",
    "\n",
    "Ans:\n",
    "bacon = 22, \n",
    "Because bacon+1 not reassign to bacon variable\n"
   ]
  },
  {
   "cell_type": "markdown",
   "id": "0c30f8dd",
   "metadata": {},
   "source": [
    "\n",
    "\n"
   ]
  },
  {
   "cell_type": "markdown",
   "id": "87a99af3",
   "metadata": {},
   "source": [
    "Q7 = What should the values of the following two terms be?\n",
    "\n",
    "'spam' + 'spamspam'\n",
    "\n",
    "'spam' * 3\n",
    "\n",
    "Ans:\n",
    "Both gives:\n",
    "'spamspamspam'"
   ]
  },
  {
   "cell_type": "markdown",
   "id": "9d93a420",
   "metadata": {},
   "source": [
    "\n",
    "\n"
   ]
  },
  {
   "cell_type": "markdown",
   "id": "c1d0ad63",
   "metadata": {},
   "source": [
    "Q8 = Why is eggs a valid variable name while 100 is invalid?\n",
    "\n",
    "Ans:\n",
    "Variable names cannot begin with a number"
   ]
  },
  {
   "cell_type": "markdown",
   "id": "66e2ce5e",
   "metadata": {},
   "source": [
    "\n",
    "\n"
   ]
  },
  {
   "cell_type": "markdown",
   "id": "ea48f762",
   "metadata": {},
   "source": [
    "Q9 = What three functions can be used to get the integer, floating-point number, or string\n",
    "version of a value?\n",
    "\n",
    "Ans:\n",
    "int() = this is for interger value\n",
    "\n",
    "float() = this is for float value\n",
    "\n",
    "str() = this is for string"
   ]
  },
  {
   "cell_type": "markdown",
   "id": "78c67058",
   "metadata": {},
   "source": [
    "\n",
    "\n",
    "\n"
   ]
  },
  {
   "cell_type": "markdown",
   "id": "52605961",
   "metadata": {},
   "source": [
    "Q10 = Why does this expression cause an error? How can you fix it?\n",
    "\n",
    "'I have eaten' + 99 + 'burritos'\n",
    "\n",
    "Ans:\n",
    "The expression causes an error because 99 is an integer, and only strings can be concatenated to other strings with the + operator. The correct way is 'I have eaten ' + str(99) + ' burritos'\n"
   ]
  }
 ],
 "metadata": {
  "kernelspec": {
   "display_name": "Python 3",
   "language": "python",
   "name": "python3"
  },
  "language_info": {
   "codemirror_mode": {
    "name": "ipython",
    "version": 3
   },
   "file_extension": ".py",
   "mimetype": "text/x-python",
   "name": "python",
   "nbconvert_exporter": "python",
   "pygments_lexer": "ipython3",
   "version": "3.6.13"
  }
 },
 "nbformat": 4,
 "nbformat_minor": 5
}
