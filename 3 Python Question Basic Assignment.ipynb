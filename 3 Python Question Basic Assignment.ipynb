{
 "cells": [
  {
   "cell_type": "markdown",
   "id": "ec7c3b74",
   "metadata": {},
   "source": [
    "Q1 = Why are functions advantageous to have in your programs?\n",
    "\n",
    "Ans: \n",
    "\n",
    "1) Easy to understand \n",
    "\n",
    "2) We can easily call it and run the code\n",
    "\n",
    "3) it reduces the duplicate code\n",
    "\n",
    "4) Easy to update\n",
    "\n",
    "5) it reduce the program size"
   ]
  },
  {
   "cell_type": "markdown",
   "id": "69833de3",
   "metadata": {},
   "source": [
    "\n",
    "\n"
   ]
  },
  {
   "cell_type": "markdown",
   "id": "0ee7c405",
   "metadata": {},
   "source": [
    "Q2 = When does the code in a function run: when it's specified or when it's called?\n",
    "\n",
    "Ans:The code in a function run when the function is called"
   ]
  },
  {
   "cell_type": "markdown",
   "id": "a6b7b386",
   "metadata": {},
   "source": [
    "\n",
    "\n"
   ]
  },
  {
   "cell_type": "markdown",
   "id": "596e9989",
   "metadata": {},
   "source": [
    "Q3 = What statement creates a function?\n",
    "\n",
    "Ans:\n",
    "The def statement creates a function."
   ]
  },
  {
   "cell_type": "markdown",
   "id": "b8612075",
   "metadata": {},
   "source": [
    "\n",
    "\n"
   ]
  },
  {
   "cell_type": "markdown",
   "id": "ab7f1951",
   "metadata": {},
   "source": [
    "Q4 = What is the difference between a function and a function call?\n",
    "\n",
    "Ans:\n",
    "\n",
    "function = A function consists of the def statement and the code in its def clause\n",
    "\n",
    "for example: \n",
    "\n",
    "            def sum(a,b):\n",
    "\n",
    "                print(\"sum of two number :\",a+b)\n",
    "\n",
    "function = function call run the function and return the values \n",
    "\n",
    "for example: sum(5,4)"
   ]
  },
  {
   "cell_type": "markdown",
   "id": "79eb9792",
   "metadata": {},
   "source": [
    "\n",
    "\n",
    "\n"
   ]
  },
  {
   "cell_type": "markdown",
   "id": "3d6dcd90",
   "metadata": {},
   "source": [
    "Q5 =How many global scopes are there in a Python program? How many local scopes?\n",
    "\n",
    "Ans:\n",
    "There is one global scope, and a local scope is created whenever a function is called."
   ]
  },
  {
   "cell_type": "markdown",
   "id": "e8bb81b6",
   "metadata": {},
   "source": [
    "\n",
    "\n"
   ]
  },
  {
   "cell_type": "markdown",
   "id": "35551552",
   "metadata": {},
   "source": [
    "Q6 = What happens to variables in a local scope when the function call returns?\n",
    "\n",
    "Ans:\n",
    "When a function returns, the local scope is destroyed, and all the variables in it are forgotten."
   ]
  },
  {
   "cell_type": "markdown",
   "id": "750d10da",
   "metadata": {},
   "source": [
    "\n",
    "\n"
   ]
  },
  {
   "cell_type": "markdown",
   "id": "4a5c8d91",
   "metadata": {},
   "source": [
    "Q7 = What is the concept of a return value? Is it possible to have a return value in an expression?\n",
    "\n",
    "Ans:\n",
    "A return value is the value that a function call evaluates to. Like any value, a return value can be used as part of an expression."
   ]
  },
  {
   "cell_type": "markdown",
   "id": "416908a3",
   "metadata": {},
   "source": [
    "\n",
    "\n",
    "\n"
   ]
  },
  {
   "cell_type": "markdown",
   "id": "a97ab29d",
   "metadata": {},
   "source": [
    "Q8 =  If a function does not have a return statement, what is the return value of a call to that function?\n",
    "\n",
    "Ans:\n",
    "If there is no return statement for a function, its return value is None"
   ]
  },
  {
   "cell_type": "markdown",
   "id": "6dfed2ca",
   "metadata": {},
   "source": [
    "\n",
    "\n",
    "\n",
    "\n"
   ]
  },
  {
   "cell_type": "markdown",
   "id": "1635a484",
   "metadata": {},
   "source": [
    "Q9 = How do you make a function variable refer to the global variable?\n",
    "\n",
    "Ans:\n",
    "A global statement will force a variable in a function to refer to the global variable."
   ]
  },
  {
   "cell_type": "markdown",
   "id": "6e437ef0",
   "metadata": {},
   "source": [
    "\n",
    "\n"
   ]
  },
  {
   "cell_type": "markdown",
   "id": "e65bd7fd",
   "metadata": {},
   "source": [
    "Q10 = What is the data type of None?\n",
    "\n",
    "Ans:\n",
    "The data type of None is NoneType.\n"
   ]
  },
  {
   "cell_type": "markdown",
   "id": "adb93b88",
   "metadata": {},
   "source": [
    "\n",
    "\n",
    "\n"
   ]
  },
  {
   "cell_type": "markdown",
   "id": "c46fffdc",
   "metadata": {},
   "source": [
    "Q11 = What does the sentence import areallyourpetsnamederic do?\n",
    "\n",
    "Ans:\n",
    "That import statement imports a module named areallyourpetsnamederic.(this is not a module in python)"
   ]
  },
  {
   "cell_type": "markdown",
   "id": "0f65d85e",
   "metadata": {},
   "source": [
    "\n"
   ]
  },
  {
   "cell_type": "markdown",
   "id": "e37bcb25",
   "metadata": {},
   "source": [
    "Q12 = If you had a bacon() feature in a spam module, what would you call it after importing spam?\n",
    "\n",
    "Ans: function can be called by spam.bacon()"
   ]
  },
  {
   "cell_type": "markdown",
   "id": "79133fa1",
   "metadata": {},
   "source": [
    "\n",
    "\n"
   ]
  },
  {
   "cell_type": "markdown",
   "id": "e13a81f1",
   "metadata": {},
   "source": [
    "Q13 = What can you do to save a programme from crashing if it encounters an error?\n",
    "\n",
    "Ans:\n",
    "we put the code in try clause to save program"
   ]
  },
  {
   "cell_type": "markdown",
   "id": "5eaef051",
   "metadata": {},
   "source": [
    "\n",
    "\n",
    "\n"
   ]
  },
  {
   "cell_type": "markdown",
   "id": "3f1630df",
   "metadata": {},
   "source": [
    "Q14 = What is the purpose of the try clause? What is the purpose of the except clause?\n",
    "\n",
    "Ans:\n",
    "\n",
    "The code which causes an error goes in the try clause\n",
    "\n",
    "The code that executes if an error happens goes in the except clause"
   ]
  },
  {
   "cell_type": "markdown",
   "id": "54e6ad97",
   "metadata": {},
   "source": [
    "\n",
    "\n"
   ]
  }
 ],
 "metadata": {
  "kernelspec": {
   "display_name": "Python 3",
   "language": "python",
   "name": "python3"
  },
  "language_info": {
   "codemirror_mode": {
    "name": "ipython",
    "version": 3
   },
   "file_extension": ".py",
   "mimetype": "text/x-python",
   "name": "python",
   "nbconvert_exporter": "python",
   "pygments_lexer": "ipython3",
   "version": "3.6.13"
  }
 },
 "nbformat": 4,
 "nbformat_minor": 5
}
