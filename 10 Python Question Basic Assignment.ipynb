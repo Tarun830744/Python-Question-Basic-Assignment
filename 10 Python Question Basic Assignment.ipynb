{
 "cells": [
  {
   "cell_type": "markdown",
   "id": "64b3d45b",
   "metadata": {},
   "source": [
    "Q1 = How do you distinguish between shutil.copy() and shutil.copytree()?\n",
    "\n",
    "Ans:- \n",
    "shutil.copy():- Function will copy a single file.\n",
    "\n",
    "shutil.copytree():- Function will copy an entire folder, along with all its contents.\n"
   ]
  },
  {
   "cell_type": "markdown",
   "id": "17759ca3",
   "metadata": {},
   "source": [
    "\n",
    "\n"
   ]
  },
  {
   "cell_type": "markdown",
   "id": "c0c3e5e9",
   "metadata": {},
   "source": [
    "Q2 = What function is used to rename files?\n",
    "\n",
    "Ans:- rename() method in Python is used to rename a file or directory.\n"
   ]
  },
  {
   "cell_type": "markdown",
   "id": "ac844276",
   "metadata": {},
   "source": [
    "\n",
    "\n"
   ]
  },
  {
   "cell_type": "markdown",
   "id": "502de699",
   "metadata": {},
   "source": [
    "Q3 = What is the difference between the delete functions in the send2trash and shutil modules?\n",
    "\n",
    "Ans:- The send2trash functions will move a file or folder to the recycle bin, while shutil functions will permanently delete files and folders.\n"
   ]
  },
  {
   "cell_type": "markdown",
   "id": "6fb707a7",
   "metadata": {},
   "source": [
    "\n",
    "\n"
   ]
  },
  {
   "cell_type": "markdown",
   "id": "2f7457a5",
   "metadata": {},
   "source": [
    "Q4 = ZipFile objects have a close() method just like File objects’ close() method. What ZipFile method is equivalent to File objects’ open() method?\n",
    "\n",
    "Ans:- The zipfile. ZipFile() function is equivalent to the open() function; the first argument is the filename, and the second argument is the mode to open the ZIP file in (read, write, or append).\n"
   ]
  },
  {
   "cell_type": "markdown",
   "id": "a77d855a",
   "metadata": {},
   "source": [
    "\n",
    "\n"
   ]
  },
  {
   "cell_type": "markdown",
   "id": "d5de2e80",
   "metadata": {},
   "source": [
    "Q5 = Create a programme that searches a folder tree for files with a certain file extension (such as .pdf or .jpg). Copy these files from whatever location they are in to a new folder.\n",
    "\n",
    "Ans:- \n",
    "def moveFileType(folder):\n",
    "\n",
    "    for folderName, subfolders, filenames in os.walk(folder):\n",
    "\n",
    "        for filename in filenames:\n",
    "\n",
    "            if filename.endswith('.jpg'):\n",
    "            \n",
    "                shutil.copy(os.path.join(folderName, filename), '<destination>')\n"
   ]
  }
 ],
 "metadata": {
  "kernelspec": {
   "display_name": "Python 3.7.4 64-bit",
   "language": "python",
   "name": "python3"
  },
  "language_info": {
   "name": "python",
   "version": "3.7.4"
  },
  "vscode": {
   "interpreter": {
    "hash": "94a30780e544d91e3b29df10927e51b39804c6806d463899ef0f4c10c3c8949c"
   }
  }
 },
 "nbformat": 4,
 "nbformat_minor": 5
}
