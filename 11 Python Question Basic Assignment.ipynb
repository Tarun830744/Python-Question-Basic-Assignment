{
 "cells": [
  {
   "cell_type": "markdown",
   "metadata": {},
   "source": [
    "Q1 = Create an assert statement that throws an AssertionError if the variable spam is a negative integer.\n",
    "\n",
    "Ans:- assert spam > 0, “Variable spam is a negative integer”\n"
   ]
  },
  {
   "cell_type": "markdown",
   "metadata": {},
   "source": [
    "\n",
    "\n"
   ]
  },
  {
   "cell_type": "markdown",
   "metadata": {},
   "source": [
    "Q2 = Write an assert statement that triggers an AssertionError if the variables eggs and bacon contain strings that are the same as each other, even if their cases are different (that is, 'hello' and 'hello' are considered the same, and 'goodbye' and 'GOODbye' are also considered the same).\n",
    "\n",
    "Ans:- assert eggs.lower() != bacon.lower(), “variables eggs and bacon contain strings that are the same as each other”\n"
   ]
  },
  {
   "cell_type": "markdown",
   "metadata": {},
   "source": [
    "\n",
    "\n"
   ]
  },
  {
   "cell_type": "markdown",
   "metadata": {},
   "source": [
    "Q3 = Create an assert statement that throws an AssertionError every time.\n",
    "\n",
    "Ans:- assert False, “Error”\n"
   ]
  },
  {
   "cell_type": "markdown",
   "metadata": {},
   "source": [
    "\n",
    "\n"
   ]
  },
  {
   "cell_type": "markdown",
   "metadata": {},
   "source": [
    "Q4 = What are the two lines that must be present in your software in order to call logging.debug()?\n",
    "\n",
    "Ans:-\n",
    "\n",
    "import logging\n",
    "\n",
    "logging.basicConfig(\n",
    "\n",
    "\tfilename = “program.txt”,\n",
    "\n",
    "\tlevel = logging.DEBUG,\n",
    "\n",
    "\tformat = '%(asctime)s - %(levelname)s - %(message)s'\n",
    "\t\n",
    ")\n"
   ]
  },
  {
   "cell_type": "markdown",
   "metadata": {},
   "source": [
    "\n",
    "\n"
   ]
  },
  {
   "cell_type": "markdown",
   "metadata": {},
   "source": [
    "Q5 = What are the two lines that your program must have in order to have logging.debug() send a logging message to a file named programLog.txt?\n",
    "\n",
    "Ans:-\n",
    "\n",
    "import logging\n",
    "\n",
    "logging.basicConfig(\n",
    "\n",
    "\tfilename  = “programlog.txt”\n",
    "\n",
    "\tlevel = logging.DEBUG,\n",
    "\n",
    "\tformat = ‘%(asctime)s - %(levelname)s - %(message)s’\n",
    "    \n",
    ")\n"
   ]
  },
  {
   "cell_type": "markdown",
   "metadata": {},
   "source": [
    "\n",
    "\n"
   ]
  },
  {
   "cell_type": "markdown",
   "metadata": {},
   "source": [
    "Q6 = What are the five levels of logging?\n",
    "\n",
    "Ans:- DEBUG, INGO, WARNING, ERROR and CRITICAL.\n"
   ]
  },
  {
   "cell_type": "markdown",
   "metadata": {},
   "source": [
    "\n",
    "\n"
   ]
  },
  {
   "cell_type": "markdown",
   "metadata": {},
   "source": [
    "Q7 = What line of code would you add to your software to disable all logging messages?\n",
    "\n",
    "Ans:- logging.disable()\n"
   ]
  },
  {
   "cell_type": "markdown",
   "metadata": {},
   "source": [
    "\n",
    "\n"
   ]
  },
  {
   "cell_type": "markdown",
   "metadata": {},
   "source": [
    "Q8 = Why is using logging messages better than using print() to display the same message?\n",
    "\n",
    "Ans:- One of the advantages of using the logging module to track our codes is the ability to format the messages based on our needs. \n"
   ]
  },
  {
   "cell_type": "markdown",
   "metadata": {},
   "source": [
    "\n",
    "\n"
   ]
  },
  {
   "cell_type": "markdown",
   "metadata": {},
   "source": [
    "Q9 = What are the differences between the Step Over, Step In, and Step Out buttons in the debugger?\n",
    "\n",
    "Ans:- Step over – An action to take in the debugger that will step over a given line. If the line contains a function the function will be executed and the result returned without debugging each line.\n",
    "\n",
    "Step into – An action to take in the debugger. If the line does not contain a function it behaves the same as “step over” but if it does the debugger will enter the called function and continue line-by-line debugging there.\n",
    "\n",
    "Step out – An action to take in the debugger that returns to the line where the current function was called.\n"
   ]
  },
  {
   "cell_type": "markdown",
   "metadata": {},
   "source": [
    "\n",
    "\n"
   ]
  },
  {
   "cell_type": "markdown",
   "metadata": {},
   "source": [
    "Q10 = After you click Continue, when will the debugger stop ?\n",
    "\n",
    "Ans:- Continue execution, only stop when a breakpoint is encountered.\n"
   ]
  },
  {
   "cell_type": "markdown",
   "metadata": {},
   "source": [
    "\n",
    "\n"
   ]
  },
  {
   "cell_type": "markdown",
   "metadata": {},
   "source": [
    "Q11 = What is the concept of a breakpoint?\n",
    "\n",
    "Ans:- a breakpoint is an intentional stopping or pausing place in a program, put in place for debugging purposes. \n"
   ]
  }
 ],
 "metadata": {
  "language_info": {
   "name": "python"
  },
  "orig_nbformat": 4
 },
 "nbformat": 4,
 "nbformat_minor": 2
}
