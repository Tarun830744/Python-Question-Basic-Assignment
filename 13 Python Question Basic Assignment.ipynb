{
 "cells": [
  {
   "cell_type": "markdown",
   "metadata": {},
   "source": [
    "Q1 = What advantages do Excel spreadsheets have over CSV spreadsheets?\n",
    "\n",
    "Ans:- While Excel (XLS and XLSX) file formats are better for storing more complex data, CSV files are supported by nearly all data upload interfaces. If you are planning to move your data between platforms, export and import it from one interface to another, you might be better off with the CSV file format.\n"
   ]
  },
  {
   "cell_type": "markdown",
   "metadata": {},
   "source": [
    "\n",
    "\n"
   ]
  },
  {
   "cell_type": "markdown",
   "metadata": {},
   "source": [
    "Q2 = What do you pass to csv.reader() and csv.writer() to create reader and writer objects?\n",
    "\n",
    "Ans:- First, call open() and pass it 'w' to open a file in write mode \n",
    "\n",
    "1. This will create the object you can then pass to csv. writer() \n",
    "\n",
    "2. to create a Writer object. On Windows, you'll also need to pass a blank string for the open() function's newline keyword argument."
   ]
  },
  {
   "cell_type": "markdown",
   "metadata": {},
   "source": [
    "\n",
    "\n"
   ]
  },
  {
   "cell_type": "markdown",
   "metadata": {},
   "source": [
    "Q3 = What modes do File objects for reader and writer objects need to be opened in?\n",
    "\n",
    "Ans:- “r+”\n"
   ]
  },
  {
   "cell_type": "markdown",
   "metadata": {},
   "source": [
    "\n",
    "\n"
   ]
  },
  {
   "cell_type": "markdown",
   "metadata": {},
   "source": [
    "Q4 = What method takes a list argument and writes it to a CSV file?\n",
    "\n",
    "Ans:- The most common method to write data from a list to CSV file is the writerow() method of writer\n"
   ]
  },
  {
   "cell_type": "markdown",
   "metadata": {},
   "source": [
    "\n",
    "\n"
   ]
  },
  {
   "cell_type": "markdown",
   "metadata": {},
   "source": [
    "Q5 = What do the keyword arguments delimiter and line terminator do?\n",
    "\n",
    "Ans:- The delimiter is the character that appears between cells on a row. By default, the delimiter for a CSV file is a comma. The line terminator is the character that comes at the end of a row. By default, the line terminator is a newline.\n"
   ]
  },
  {
   "cell_type": "markdown",
   "metadata": {},
   "source": [
    "\n",
    "\n"
   ]
  },
  {
   "cell_type": "markdown",
   "metadata": {},
   "source": [
    "Q6 = What function takes a string of JSON data and returns a Python data structure?\n",
    "\n",
    "Ans:- loads() method return Python data structure of JSON string or data.\n"
   ]
  },
  {
   "cell_type": "markdown",
   "metadata": {},
   "source": [
    "\n",
    "\n"
   ]
  },
  {
   "cell_type": "markdown",
   "metadata": {},
   "source": [
    "Q7 = What function takes a Python data structure and returns a string of JSON data?\n",
    "\n",
    "Ans:- dumps() method: This method is used to convert the dictionary object into JSON data for parsing or reading and it is slower than dump() method.\n"
   ]
  }
 ],
 "metadata": {
  "language_info": {
   "name": "python"
  },
  "orig_nbformat": 4
 },
 "nbformat": 4,
 "nbformat_minor": 2
}
