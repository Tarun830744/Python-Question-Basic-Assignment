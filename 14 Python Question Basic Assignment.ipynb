{
 "cells": [
  {
   "cell_type": "markdown",
   "metadata": {},
   "source": [
    "Q1 = What does RGBA stand for?\n",
    "\n",
    "Ans = RGBA is a four-channel format containing data for Red, Green, Blue, and an Alpha value. Where Alpha Represents the Opacity\n"
   ]
  },
  {
   "cell_type": "markdown",
   "metadata": {},
   "source": [
    "\n",
    "\n"
   ]
  },
  {
   "cell_type": "markdown",
   "metadata": {},
   "source": [
    "Q2 = From the Pillow module, how do you get the RGBA value of any images?\n",
    "\n",
    "Ans = \"ImageColor.getcolor()\" gives rgba value of any image"
   ]
  },
  {
   "cell_type": "markdown",
   "metadata": {},
   "source": [
    "\n",
    "\n"
   ]
  },
  {
   "cell_type": "markdown",
   "metadata": {},
   "source": [
    "Q3 = What is a box tuple, and how does it work?\n",
    "\n",
    "Ans = A box tuple is a tuple value of four integers: the left-edge x-coordinate, the top-edge y-coordinate,the width, and the height, respectively."
   ]
  },
  {
   "cell_type": "markdown",
   "metadata": {},
   "source": [
    "\n",
    "\n"
   ]
  },
  {
   "cell_type": "markdown",
   "metadata": {},
   "source": [
    "Q4 = Use your image and load in notebook then, How can you find out the width and height of an Image object?\n",
    "\n",
    "Ans = \n",
    "from PIL import Image\n",
    "\n",
    "pic = Image.open('img.jpg')\n",
    "\n",
    "print(f'Width, Height -> {pic.size}')\n"
   ]
  },
  {
   "cell_type": "markdown",
   "metadata": {},
   "source": [
    "\n",
    "\n"
   ]
  },
  {
   "cell_type": "markdown",
   "metadata": {},
   "source": [
    "Q5 = What method would you call to get Image object for a 100×100 image, excluding the lower-left quarter of it?\n",
    "\n",
    "Ans = \n",
    "from PIL import Image\n",
    "\n",
    "pic = Image.open('img.jpg')\n",
    "\n",
    "new_img = pic.crop((0,50,50,50))"
   ]
  },
  {
   "cell_type": "markdown",
   "metadata": {},
   "source": [
    "\n",
    "\n"
   ]
  },
  {
   "cell_type": "markdown",
   "metadata": {},
   "source": [
    "Q6 = After making changes to an Image object, how could you save it as an image file?\n",
    "\n",
    "Ans = \n",
    "from PIL import Image\n",
    "\n",
    "pic = Image.open('img.jpg')\n",
    "\n",
    "pic.save('pic2.jpg')"
   ]
  },
  {
   "cell_type": "markdown",
   "metadata": {},
   "source": [
    "\n",
    "\n"
   ]
  },
  {
   "cell_type": "markdown",
   "metadata": {},
   "source": [
    "Q7 = What module contains Pillow’s shape-drawing code?\n",
    "\n",
    "Ans =  Pillows \"ImageDraw\" module contains Shape drawing methods"
   ]
  },
  {
   "cell_type": "markdown",
   "metadata": {},
   "source": [
    "\n",
    "\n"
   ]
  },
  {
   "cell_type": "markdown",
   "metadata": {},
   "source": [
    "Q8 = Image objects do not have drawing methods. What kind of object does? How do you get this kind of object\n",
    "\n",
    "Ans = ImageDraw objects have shape-drawing methods such as point(), line(), or rectangle().They are returned by passing the Image object to the \"ImageDraw.Draw()\" function."
   ]
  }
 ],
 "metadata": {
  "language_info": {
   "name": "python"
  },
  "orig_nbformat": 4
 },
 "nbformat": 4,
 "nbformat_minor": 2
}
