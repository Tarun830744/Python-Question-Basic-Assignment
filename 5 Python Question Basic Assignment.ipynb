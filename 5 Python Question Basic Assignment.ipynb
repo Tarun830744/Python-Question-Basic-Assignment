{
 "cells": [
  {
   "cell_type": "markdown",
   "id": "67453716",
   "metadata": {},
   "source": [
    "Q1 = What does an empty dictionary&#39;s code look like?\n",
    "\n",
    "Ans: Two curly brackets: {}\n",
    "\n",
    "\n",
    "\n",
    "Q2 = What is the value of a dictionary value with the key 'foo' and the value 42?\n",
    "\n",
    "Ans:{'foo': 42}\n",
    "\n",
    "\n",
    "\n",
    "Q3 = What is the most significant distinction between a dictionary and a list?\n",
    "\n",
    "Ans:The items stored in a dictionary are unordered, while the items in a list are ordered.\n",
    "\n",
    "\n",
    "\n",
    "Q4 = What happens if you try to access spam['foo'] if spam is {'bar': 100}?\n",
    "\n",
    "Ans:You get a KeyError error\n",
    "\n",
    "\n",
    "\n",
    "Q5 =  If a dictionary is stored in spam, what is the difference between the expressions 'cat' in spam and\n",
    "'cat' in spam.keys()?\n",
    "\n",
    "Ans: There is no difference. The operator spam.key() checks whether a value exists as a key in the dictionary.\n",
    "\n",
    "\n",
    "\n",
    "Q6 = If a dictionary is stored in spam, what is the difference between the expressions 'cat' in spam and\n",
    "'cat' in spam.values()?\n",
    "\n",
    "Ans: cat' in spam checks whether there is a 'cat' key in the dictionary, while 'cat' in spam.values() checks whether there is a value 'cat' for one of the keys in spam.\n",
    "\n",
    "\n",
    "\n",
    "Q7 = What is a shortcut for the following code?\n",
    "\n",
    "if 'color' not in spam:\n",
    "\n",
    "spam['color'] = 'black'\n",
    "\n",
    "Ans:spam.setdefault('color':'black')\n",
    "\n",
    "\n",
    "\n",
    "Q8 = How do you \"pretty print\" dictionary values using which module and function?\n",
    "\n",
    "Ans:pprint.pprint()"
   ]
  },
  {
   "cell_type": "code",
   "execution_count": null,
   "id": "5747af97",
   "metadata": {},
   "outputs": [],
   "source": []
  }
 ],
 "metadata": {
  "kernelspec": {
   "display_name": "Python 3",
   "language": "python",
   "name": "python3"
  },
  "language_info": {
   "codemirror_mode": {
    "name": "ipython",
    "version": 3
   },
   "file_extension": ".py",
   "mimetype": "text/x-python",
   "name": "python",
   "nbconvert_exporter": "python",
   "pygments_lexer": "ipython3",
   "version": "3.6.13"
  }
 },
 "nbformat": 4,
 "nbformat_minor": 5
}
