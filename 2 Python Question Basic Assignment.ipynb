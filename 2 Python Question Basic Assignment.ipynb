{
 "cells": [
  {
   "cell_type": "markdown",
   "id": "3cc78f52",
   "metadata": {},
   "source": [
    "Q1 = What are the two values of the Boolean data type? How do you write them?\n",
    "\n",
    "Ans:\n",
    "True and False, using capital latter T and F, with the rest of the word in lowercase"
   ]
  },
  {
   "cell_type": "markdown",
   "id": "605edcc6",
   "metadata": {},
   "source": [
    "\n",
    "\n"
   ]
  },
  {
   "cell_type": "markdown",
   "id": "c87ea78e",
   "metadata": {},
   "source": [
    "Q2 =What are the three different type of Boolean operators?\n",
    "\n",
    "Ans:\n",
    "and ,or ,not"
   ]
  },
  {
   "cell_type": "markdown",
   "id": "309aa325",
   "metadata": {},
   "source": [
    "\n",
    "\n"
   ]
  },
  {
   "cell_type": "markdown",
   "id": "a4a1b41b",
   "metadata": {},
   "source": [
    "Q3 = Make a list of each Boolean operator's truth tables (i.e. every possible combination of Boolean\n",
    "values for the operator and what it evaluate ).\n",
    "\n",
    "Ans:\n",
    "For 'and' operator's\n",
    "\n",
    "1)True and True = True\n",
    "\n",
    "2)True and False = False\n",
    "\n",
    "3)False and True = False\n",
    "\n",
    "4)False and True = False\n",
    "\n",
    "For 'or' operator's\n",
    "\n",
    "1)True or True = True\n",
    "\n",
    "2)True or True = True\n",
    "\n",
    "3)False or True = True\n",
    "\n",
    "4)False or False = False\n",
    "\n",
    "For 'not' operator's\n",
    "\n",
    "1)not Ture = False\n",
    "\n",
    "2)not False = True\n"
   ]
  },
  {
   "cell_type": "markdown",
   "id": "a85d75f8",
   "metadata": {},
   "source": [
    "\n",
    "\n"
   ]
  },
  {
   "cell_type": "markdown",
   "id": "5b613902",
   "metadata": {},
   "source": [
    "Q4 = What are the values of the following expressions?\n",
    "\n",
    "Ans:\n",
    "\n",
    "(5 > 4) and (3 == 5) = False\n",
    "\n",
    "not (5 > 4) = False\n",
    "\n",
    "(5 > 4) or (3 == 5) = True\n",
    "\n",
    "not ((5 > 4) or (3 == 5)) = False\n",
    "\n",
    "(True and True) and (True == False) =False\n",
    "\n",
    "(not False) or (not True) =True"
   ]
  },
  {
   "cell_type": "markdown",
   "id": "b4a0b583",
   "metadata": {},
   "source": [
    "\n",
    "\n"
   ]
  },
  {
   "cell_type": "markdown",
   "id": "647d8eb1",
   "metadata": {},
   "source": [
    "Q5 = What are the six comparison operators?\n",
    "\n",
    "Ans: > ,< ,>= ,<= ,== ,!="
   ]
  },
  {
   "cell_type": "markdown",
   "id": "bf8143cb",
   "metadata": {},
   "source": [
    "\n",
    "\n"
   ]
  },
  {
   "cell_type": "markdown",
   "id": "ac2887b0",
   "metadata": {},
   "source": [
    "Q6 = How do you tell the difference between the equal to and assignment operators?Describe a\n",
    "condition and when you would use one.\n",
    "\n",
    "Ans:\n",
    "\n",
    "== is the equal to operator that compares two values and evaluates to a Boolean, \n",
    "\n",
    "For example = if (2==5):\n",
    "\n",
    "                   print(\"True\")\n",
    "              \n",
    "              else:\n",
    "              \n",
    "                  print(\"False\")\n",
    "                \n",
    "while = is the assignment operator that stores a value in a variable.\n",
    "\n",
    "For example : num = 1 ,text = \"hello1\""
   ]
  },
  {
   "cell_type": "markdown",
   "id": "1abb9ae9",
   "metadata": {},
   "source": [
    "\n",
    "\n"
   ]
  },
  {
   "cell_type": "markdown",
   "id": "965fa64a",
   "metadata": {},
   "source": [
    "Q7 = Identify the three blocks in this code:\n",
    "\n",
    "spam = 0\n",
    "\n",
    "if spam == 10:\n",
    "    \n",
    "    print('eggs')\n",
    "    \n",
    "if spam > 5:\n",
    "    \n",
    "    print('bacon')\n",
    "    \n",
    "else:\n",
    "\n",
    "    print('ham')\n",
    "    \n",
    "    print('spam')\n",
    "    \n",
    "    print('spam')\n",
    "\n",
    "Ans:\n",
    "\n",
    "spam = 0\n",
    "\n",
    "if spam == 10:\n",
    "\n",
    "    print('eggs')\n",
    "    \n",
    "    if spam > 5:\n",
    "        \n",
    "        print('bacon')\n",
    "    \n",
    "    else:\n",
    "    \n",
    "        print('ham')\n",
    "        \n",
    "        print('spam')\n",
    "      \n",
    "print('spam')"
   ]
  },
  {
   "cell_type": "markdown",
   "id": "1b236af8",
   "metadata": {},
   "source": [
    "\n",
    "\n"
   ]
  },
  {
   "cell_type": "markdown",
   "id": "eefb4b7a",
   "metadata": {},
   "source": [
    "Q8 =Write code that prints Hello if 1 is stored in spam, prints Howdy if 2 is stored in spam, and prints Greetings! if anything else is stored in spam.\n",
    "\n",
    "Ans:\n",
    "\n",
    "if spam == 1:\n",
    "\n",
    "    print(\"Hello\")\n",
    "    \n",
    "elif spam == 2:\n",
    "\n",
    "    print(\"Howdy\")\n",
    "    \n",
    "else:\n",
    "\n",
    "    print(\"Greetings!\")"
   ]
  },
  {
   "cell_type": "markdown",
   "id": "3059bc4c",
   "metadata": {},
   "source": [
    "\n",
    "\n"
   ]
  },
  {
   "cell_type": "markdown",
   "id": "d1becf52",
   "metadata": {},
   "source": [
    "Q9 = If your programme is stuck in an endless loop, what keys you’ll press?\n",
    "\n",
    "Ans:\n",
    "Press CTRL-C to stop a program stuck in an infinite loop."
   ]
  },
  {
   "cell_type": "markdown",
   "id": "58067f4d",
   "metadata": {},
   "source": [
    "\n",
    "\n"
   ]
  },
  {
   "cell_type": "markdown",
   "id": "f0d7ba67",
   "metadata": {},
   "source": [
    "Q10 = How can you tell the difference between break and continue?\n",
    "\n",
    "Ans:\n",
    "\n",
    "break = break leaves the loop completely and executes the statements after the loop. break completely exits the loop.\n",
    "\n",
    "continue = Whereas continue leaves the current iteration and executes with the next value in the loop."
   ]
  },
  {
   "cell_type": "markdown",
   "id": "22bc897c",
   "metadata": {},
   "source": [
    "\n",
    "\n"
   ]
  },
  {
   "cell_type": "markdown",
   "id": "d93e873a",
   "metadata": {},
   "source": [
    "Q11 = In a for loop, what is the difference between range(10), range(0, 10), and range(0, 10, 1)?\n",
    "\n",
    "Ans:\n",
    "\n",
    "1)range(10) = In this function end point of itration was given means it always start with 0\n",
    "\n",
    "2)range(0,10) = In this function start point and end point was given which means if start point is 0 it start from 0 and when start point is 2 then it start from 2 \n",
    "\n",
    "3)range(0,10,1) = In this function start point , end point as well as difference between point also givan means it print the value with difference value"
   ]
  },
  {
   "cell_type": "markdown",
   "id": "901a2a3c",
   "metadata": {},
   "source": [
    "\n",
    "\n"
   ]
  },
  {
   "cell_type": "markdown",
   "id": "8ba07619",
   "metadata": {},
   "source": [
    "Q12 = Write a short program that prints the numbers 1 to 10 using a for loop. Then write an equivalentprogram that prints the numbers 1 to 10 using a while loop.\n",
    "\n",
    "Ans:\n",
    "\n",
    "1) for i in range(1,11):\n",
    "\n",
    "        print(i)\n",
    "        \n",
    "2) count = 0:\n",
    "\n",
    "   while count<11:\n",
    "   \n",
    "       count=count+1\n",
    "       \n",
    "       print(count)\n"
   ]
  },
  {
   "cell_type": "markdown",
   "id": "23a0ad1f",
   "metadata": {},
   "source": [
    "\n",
    "\n"
   ]
  },
  {
   "cell_type": "markdown",
   "id": "af3a6d25",
   "metadata": {},
   "source": [
    "Q13 = If you had a function named bacon() inside a module named spam, how would you call it after\n",
    "importing spam?\n",
    "\n",
    "Ans:\n",
    "\n",
    "import spam\n",
    "\n",
    "spam.bacon()"
   ]
  },
  {
   "cell_type": "markdown",
   "id": "7ac3638d",
   "metadata": {},
   "source": [
    "\n",
    "\n"
   ]
  }
 ],
 "metadata": {
  "kernelspec": {
   "display_name": "Python 3",
   "language": "python",
   "name": "python3"
  },
  "language_info": {
   "codemirror_mode": {
    "name": "ipython",
    "version": 3
   },
   "file_extension": ".py",
   "mimetype": "text/x-python",
   "name": "python",
   "nbconvert_exporter": "python",
   "pygments_lexer": "ipython3",
   "version": "3.6.13"
  }
 },
 "nbformat": 4,
 "nbformat_minor": 5
}
