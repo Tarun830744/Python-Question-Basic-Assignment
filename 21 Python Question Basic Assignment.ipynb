{
 "cells": [
  {
   "cell_type": "markdown",
   "metadata": {},
   "source": [
    "Q1 = Add the current date to the text file today.txt as a string."
   ]
  },
  {
   "cell_type": "code",
   "execution_count": 1,
   "metadata": {},
   "outputs": [],
   "source": [
    "import datetime\n",
    "file = open('today.txt','w')\n",
    "file.write(datetime.datetime.now().strftime(\"%d-%m-%Y\"))\n",
    "file.close()"
   ]
  },
  {
   "cell_type": "markdown",
   "metadata": {},
   "source": [
    "Q2 = Read the text file today.txt into the string today_string"
   ]
  },
  {
   "cell_type": "code",
   "execution_count": 2,
   "metadata": {},
   "outputs": [
    {
     "name": "stdout",
     "output_type": "stream",
     "text": [
      "05-11-2022\n"
     ]
    }
   ],
   "source": [
    "file = open('today.txt','r')\n",
    "today_string = file.read()\n",
    "print(today_string)"
   ]
  },
  {
   "cell_type": "markdown",
   "metadata": {},
   "source": [
    "Q3 = Parse the date from today_string."
   ]
  },
  {
   "cell_type": "code",
   "execution_count": 3,
   "metadata": {},
   "outputs": [
    {
     "name": "stdout",
     "output_type": "stream",
     "text": [
      "2022-11-05 00:00:00\n"
     ]
    }
   ],
   "source": [
    "from datetime import datetime\n",
    "parsed_data = datetime.strptime(today_string, '%d-%m-%Y')\n",
    "print(parsed_data)"
   ]
  },
  {
   "cell_type": "markdown",
   "metadata": {},
   "source": [
    "Q4 = List the files in your current directory"
   ]
  },
  {
   "cell_type": "code",
   "execution_count": 4,
   "metadata": {},
   "outputs": [
    {
     "name": "stdout",
     "output_type": "stream",
     "text": [
      "1 Python Question Basic Assignment.ipynb\n",
      "10 Python Question Basic Assignment.ipynb\n",
      "11 Python Question Basic Assignment.ipynb\n",
      "12 Python Question Basic Assignment.ipynb\n",
      "13 Python Question Basic Assignment.ipynb\n",
      "14 Python Question Basic Assignment.ipynb\n",
      "15 Python Question Basic Assignment.ipynb\n",
      "16 Python Question Basic Assignment.ipynb\n",
      "17 Python Question Basic Assignment.ipynb\n",
      "18 Python Question Basic Assignment.ipynb\n",
      "19 Python Question Basic Assginment.ipynb\n",
      "2 Python Question Basic Assignment.ipynb\n",
      "20 Python Question Basic Assignment.ipynb\n",
      "21 Python Question Basic Assignment.ipynb\n",
      "3 Python Question Basic Assignment.ipynb\n",
      "4 Python Question Basic Assignment.ipynb\n",
      "5 Python Question Basic Assignment.ipynb\n",
      "6 Python Question Basic Assignment.ipynb\n",
      "7 Python Question Basic Assignment.ipynb\n",
      "8 Python Question Basic Assignment.ipynb\n",
      "9 Python Question Basic Assignment.ipynb\n",
      "books.csv\n",
      "books.db\n",
      "test.txt\n",
      "today.txt\n",
      "zoo.py\n",
      "1 Python Question Basic Assignment-checkpoint.ipynb\n",
      "6 Python Question Basic Assignment-checkpoint.ipynb\n",
      "7 Python Question Basic Assignment-checkpoint.ipynb\n",
      "8 Python Question Basic Assignment-checkpoint.ipynb\n",
      "9 Python Question Basic Assignment-checkpoint.ipynb\n",
      "Untitled-checkpoint.ipynb\n",
      "zoo.cpython-37.pyc\n"
     ]
    }
   ],
   "source": [
    "import os\n",
    "for folders, subfolders, files in os.walk(os.getcwd()):\n",
    "    for file in files:\n",
    "        print(file)"
   ]
  },
  {
   "cell_type": "markdown",
   "metadata": {},
   "source": [
    "Q5 = Create a list of all of the files in your parent directory (minimum five files should be available)."
   ]
  },
  {
   "cell_type": "code",
   "execution_count": 5,
   "metadata": {},
   "outputs": [
    {
     "data": {
      "text/plain": [
       "['.ipynb_checkpoints',\n",
       " '1 Python Question Basic Assignment.ipynb',\n",
       " '10 Python Question Basic Assignment.ipynb',\n",
       " '11 Python Question Basic Assignment.ipynb',\n",
       " '12 Python Question Basic Assignment.ipynb',\n",
       " '13 Python Question Basic Assignment.ipynb',\n",
       " '14 Python Question Basic Assignment.ipynb',\n",
       " '15 Python Question Basic Assignment.ipynb',\n",
       " '16 Python Question Basic Assignment.ipynb',\n",
       " '17 Python Question Basic Assignment.ipynb',\n",
       " '18 Python Question Basic Assignment.ipynb',\n",
       " '19 Python Question Basic Assginment.ipynb',\n",
       " '2 Python Question Basic Assignment.ipynb',\n",
       " '20 Python Question Basic Assignment.ipynb',\n",
       " '21 Python Question Basic Assignment.ipynb',\n",
       " '3 Python Question Basic Assignment.ipynb',\n",
       " '4 Python Question Basic Assignment.ipynb',\n",
       " '5 Python Question Basic Assignment.ipynb',\n",
       " '6 Python Question Basic Assignment.ipynb',\n",
       " '7 Python Question Basic Assignment.ipynb',\n",
       " '8 Python Question Basic Assignment.ipynb',\n",
       " '9 Python Question Basic Assignment.ipynb',\n",
       " 'books.csv',\n",
       " 'books.db',\n",
       " 'test.txt',\n",
       " 'today.txt',\n",
       " 'zoo.py',\n",
       " '__pycache__']"
      ]
     },
     "execution_count": 5,
     "metadata": {},
     "output_type": "execute_result"
    }
   ],
   "source": [
    "import os \n",
    "os.listdir()"
   ]
  },
  {
   "cell_type": "markdown",
   "metadata": {},
   "source": [
    "Q6 = Use multiprocessing to create three separate processes. Make each one wait a random number of seconds between one and five, print the current time, and then exit.\n"
   ]
  },
  {
   "cell_type": "code",
   "execution_count": 6,
   "metadata": {},
   "outputs": [],
   "source": [
    "import multiprocessing\n",
    "import time \n",
    "import random\n",
    "import datetime\n",
    "\n",
    "def procOne():\n",
    "    print(f'Proc_one_Starttime -> {datetime.datetime.now()}')\n",
    "    time.sleep(random.randint(1,5))\n",
    "    print(f'Proc_one_Endtime -> {datetime.datetime.now()}')\n",
    "    \n",
    "def procTwo():\n",
    "    print(f'Proc_two_Starttime -> {datetime.datetime.now()}')\n",
    "    time.sleep(random.randint(1,5))\n",
    "    print(f'Proc_two_Endtime -> {datetime.datetime.now()}')\n",
    "\n",
    "def procThree():\n",
    "    print(f'Proc_two_Starttime -> {datetime.datetime.now()}')\n",
    "    time.sleep(random.randint(1,5))\n",
    "    print(f'Proc_two_Endtime -> {datetime.datetime.now()}')\n",
    "    \n",
    "if __name__ == \"__main__\":    \n",
    "    p1 = multiprocessing.Process(target=procOne)\n",
    "    p2 = multiprocessing.Process(target=procTwo)\n",
    "    p3 = multiprocessing.Process(target=procThree)\n",
    "\n",
    "    p1.start()\n",
    "    p2.start()\n",
    "    p3.start()\n",
    "\n",
    "    p1.join()\n",
    "    p2.join()\n",
    "    p3.join()"
   ]
  },
  {
   "cell_type": "markdown",
   "metadata": {},
   "source": [
    "Q7 = Create a date object of your day of birth."
   ]
  },
  {
   "cell_type": "code",
   "execution_count": 8,
   "metadata": {},
   "outputs": [
    {
     "name": "stdout",
     "output_type": "stream",
     "text": [
      "2001-01-18 00:00:00 <class 'datetime.datetime'>\n"
     ]
    }
   ],
   "source": [
    "from datetime import datetime\n",
    "my_dob = datetime.strptime('18/01/2001','%d/%m/%Y')\n",
    "print(my_dob, type(my_dob))"
   ]
  },
  {
   "cell_type": "markdown",
   "metadata": {},
   "source": [
    "Q8 = What day of the week was your day of birth?"
   ]
  },
  {
   "cell_type": "code",
   "execution_count": 11,
   "metadata": {},
   "outputs": [
    {
     "data": {
      "text/plain": [
       "'Thursday'"
      ]
     },
     "execution_count": 11,
     "metadata": {},
     "output_type": "execute_result"
    }
   ],
   "source": [
    "from datetime import datetime\n",
    "my_dob = datetime(2001,1,18)\n",
    "my_dob.strftime(\"%A\")"
   ]
  },
  {
   "cell_type": "markdown",
   "metadata": {},
   "source": [
    "Q9 = When will you be (or when were you) 10,000 days old?"
   ]
  },
  {
   "cell_type": "code",
   "execution_count": 13,
   "metadata": {},
   "outputs": [
    {
     "data": {
      "text/plain": [
       "datetime.datetime(1973, 9, 2, 0, 0)"
      ]
     },
     "execution_count": 13,
     "metadata": {},
     "output_type": "execute_result"
    }
   ],
   "source": [
    "from datetime import datetime, timedelta\n",
    "my_dob = datetime.strptime(\"18/01/2001\",'%d/%m/%Y')\n",
    "future_date = my_dob-timedelta(10000)\n",
    "future_date"
   ]
  }
 ],
 "metadata": {
  "kernelspec": {
   "display_name": "Python 3.7.4 64-bit",
   "language": "python",
   "name": "python3"
  },
  "language_info": {
   "codemirror_mode": {
    "name": "ipython",
    "version": 3
   },
   "file_extension": ".py",
   "mimetype": "text/x-python",
   "name": "python",
   "nbconvert_exporter": "python",
   "pygments_lexer": "ipython3",
   "version": "3.7.4"
  },
  "orig_nbformat": 4,
  "vscode": {
   "interpreter": {
    "hash": "94a30780e544d91e3b29df10927e51b39804c6806d463899ef0f4c10c3c8949c"
   }
  }
 },
 "nbformat": 4,
 "nbformat_minor": 2
}
