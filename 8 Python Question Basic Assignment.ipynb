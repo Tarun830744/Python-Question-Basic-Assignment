{
 "cells": [
  {
   "cell_type": "markdown",
   "id": "f30d4249",
   "metadata": {},
   "source": [
    "Q1 = Is the Python Standard Library included with PyInputPlus?\n",
    "\n",
    "Ans = PyInputPlus is not a part of the Python Standard Library, so you must install it separately using Pip"
   ]
  },
  {
   "cell_type": "markdown",
   "id": "ce50eb84",
   "metadata": {},
   "source": [
    "\n"
   ]
  },
  {
   "cell_type": "markdown",
   "id": "0c78cbe4",
   "metadata": {},
   "source": [
    "Q2 = Why is PyInputPlus commonly imported with import pyinputplus as pypi?\n",
    "\n",
    "Ans = pypi is alias of PyInputPlus. The as pyip code in the import statement saves us from typing pyinputplus each time we want to call a PyInputPlus function. Instead we can use the shorter pyip name"
   ]
  },
  {
   "cell_type": "markdown",
   "id": "bf40b2ea",
   "metadata": {},
   "source": [
    "\n",
    "\n"
   ]
  },
  {
   "cell_type": "markdown",
   "id": "193885f8",
   "metadata": {},
   "source": [
    "Q3 = How do you distinguish between inputInt() and inputFloat()?\n",
    "\n",
    "Ans = inputInt() : Accepts an integer value, and returns int value\n",
    "\n",
    "inputFloat() : Accepts integer/floating point value and returns float value"
   ]
  },
  {
   "cell_type": "markdown",
   "id": "ba28e53c",
   "metadata": {},
   "source": [
    "\n"
   ]
  },
  {
   "cell_type": "markdown",
   "id": "c89c70d1",
   "metadata": {},
   "source": [
    "Q4 = Using PyInputPlus, how do you ensure that the user enters a whole number between 0 and 99?\n",
    "\n",
    "Ans = In the inputint function we can set the min = 0 and max =99 to ensure user enters number between 0 and 99"
   ]
  },
  {
   "cell_type": "markdown",
   "id": "2bc72d5d",
   "metadata": {},
   "source": [
    "\n"
   ]
  },
  {
   "cell_type": "markdown",
   "id": "c02a9fe9",
   "metadata": {},
   "source": [
    "Q5 = What is transferred to the keyword arguments allowRegexes and blockRegexes?\n",
    "\n",
    "Ans = We can also use regular expressions to specify whether an input is allowed or not. The allowRegexes and blockRegexes keyword arguments take a list of regular expression strings to determine what the PyInputPlus function will accept or reject as valid input."
   ]
  },
  {
   "cell_type": "markdown",
   "id": "18d0e4a7",
   "metadata": {},
   "source": [
    "Q6 = If a blank input is entered three times, what does inputStr(limit=3) do?\n",
    "\n",
    "Ans = t will throw RetryLimitException exception."
   ]
  },
  {
   "cell_type": "markdown",
   "id": "4a4bcd57",
   "metadata": {},
   "source": [
    "\n",
    "\n"
   ]
  },
  {
   "cell_type": "markdown",
   "id": "198d6365",
   "metadata": {},
   "source": [
    "Q7 = If blank input is entered three times, what does inputStr(limit=3, default='hello') do?\n",
    "\n",
    "Ans = When you use limit keyword arguments and also pass a default keyword argument, the function returns the default value instead of raising an exception"
   ]
  }
 ],
 "metadata": {
  "kernelspec": {
   "display_name": "Python 3 (ipykernel)",
   "language": "python",
   "name": "python3"
  },
  "language_info": {
   "codemirror_mode": {
    "name": "ipython",
    "version": 3
   },
   "file_extension": ".py",
   "mimetype": "text/x-python",
   "name": "python",
   "nbconvert_exporter": "python",
   "pygments_lexer": "ipython3",
   "version": "3.9.7"
  }
 },
 "nbformat": 4,
 "nbformat_minor": 5
}
